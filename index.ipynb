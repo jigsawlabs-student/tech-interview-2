{
 "cells": [
  {
   "cell_type": "code",
   "execution_count": 2,
   "id": "dafa3eed-ebe8-4fa2-a63c-7b294a4ccc5d",
   "metadata": {},
   "outputs": [],
   "source": [
    "import pandas as pd"
   ]
  },
  {
   "cell_type": "code",
   "execution_count": 3,
   "id": "f8f22ea2-aec9-4a53-adc4-e5af794f3a19",
   "metadata": {},
   "outputs": [],
   "source": [
    "df = pd.read_csv('https://raw.githubusercontent.com/jigsawlabs-student/tech-interview-2/main/spotify_dataset.csv', index_col = 0)"
   ]
  },
  {
   "cell_type": "code",
   "execution_count": 4,
   "id": "b0a13326-257d-4bf9-aece-bb2b1d75aae0",
   "metadata": {},
   "outputs": [],
   "source": [
    "songs = df.to_dict('records')"
   ]
  },
  {
   "cell_type": "code",
   "execution_count": 5,
   "id": "9a3ad94c-5c65-4ed3-ba8b-cb5413031b83",
   "metadata": {},
   "outputs": [
    {
     "data": {
      "text/plain": [
       "[{'Highest Charting Position': 1,\n",
       "  'Number of Times Charted': 8,\n",
       "  'Week of Highest Charting': '2021-07-23--2021-07-30',\n",
       "  'Song Name': \"Beggin'\",\n",
       "  'Streams': '48,633,449',\n",
       "  'Artist': 'Måneskin',\n",
       "  'Artist Followers': '3377762',\n",
       "  'Song ID': '3Wrjm47oTz2sjIgck11l5e',\n",
       "  'Genre': \"['indie rock italiano', 'italian pop']\",\n",
       "  'Release Date': '2017-12-08',\n",
       "  'Weeks Charted': '2021-07-23--2021-07-30\\n2021-07-16--2021-07-23\\n2021-07-09--2021-07-16\\n2021-07-02--2021-07-09\\n2021-06-25--2021-07-02\\n2021-06-18--2021-06-25\\n2021-06-11--2021-06-18\\n2021-06-04--2021-06-11',\n",
       "  'Popularity': '100',\n",
       "  'Danceability': '0.714',\n",
       "  'Energy': '0.8',\n",
       "  'Loudness': '-4.808',\n",
       "  'Speechiness': '0.0504',\n",
       "  'Acousticness': '0.127',\n",
       "  'Liveness': '0.359',\n",
       "  'Tempo': '134.002',\n",
       "  'Duration (ms)': '211560',\n",
       "  'Valence': '0.589',\n",
       "  'Chord': 'B'},\n",
       " {'Highest Charting Position': 2,\n",
       "  'Number of Times Charted': 3,\n",
       "  'Week of Highest Charting': '2021-07-23--2021-07-30',\n",
       "  'Song Name': 'STAY (with Justin Bieber)',\n",
       "  'Streams': '47,248,719',\n",
       "  'Artist': 'The Kid LAROI',\n",
       "  'Artist Followers': '2230022',\n",
       "  'Song ID': '5HCyWlXZPP0y6Gqq8TgA20',\n",
       "  'Genre': \"['australian hip hop']\",\n",
       "  'Release Date': '2021-07-09',\n",
       "  'Weeks Charted': '2021-07-23--2021-07-30\\n2021-07-16--2021-07-23\\n2021-07-09--2021-07-16',\n",
       "  'Popularity': '99',\n",
       "  'Danceability': '0.591',\n",
       "  'Energy': '0.764',\n",
       "  'Loudness': '-5.484',\n",
       "  'Speechiness': '0.0483',\n",
       "  'Acousticness': '0.0383',\n",
       "  'Liveness': '0.103',\n",
       "  'Tempo': '169.928',\n",
       "  'Duration (ms)': '141806',\n",
       "  'Valence': '0.478',\n",
       "  'Chord': 'C#/Db'}]"
      ]
     },
     "execution_count": 5,
     "metadata": {},
     "output_type": "execute_result"
    }
   ],
   "source": [
    "songs[:2]"
   ]
  },
  {
   "cell_type": "markdown",
   "id": "bacb0de1-84fe-4c86-857f-c1294e2ff918",
   "metadata": {},
   "source": [
    "### Challenge Problem"
   ]
  },
  {
   "cell_type": "code",
   "execution_count": 1,
   "id": "2c710359-7981-45bc-acc9-78a44d8a6f47",
   "metadata": {},
   "outputs": [],
   "source": [
    "values = [5, 2, 1, 8, 1, 2]"
   ]
  },
  {
   "cell_type": "code",
   "execution_count": null,
   "id": "76dd7a62-9e95-4121-a715-de2dab249a82",
   "metadata": {},
   "outputs": [],
   "source": []
  }
 ],
 "metadata": {
  "kernelspec": {
   "display_name": "Python 3 (ipykernel)",
   "language": "python",
   "name": "python3"
  },
  "language_info": {
   "codemirror_mode": {
    "name": "ipython",
    "version": 3
   },
   "file_extension": ".py",
   "mimetype": "text/x-python",
   "name": "python",
   "nbconvert_exporter": "python",
   "pygments_lexer": "ipython3",
   "version": "3.10.6"
  }
 },
 "nbformat": 4,
 "nbformat_minor": 5
}
